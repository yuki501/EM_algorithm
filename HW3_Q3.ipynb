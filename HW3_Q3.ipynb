{
 "cells": [
  {
   "cell_type": "code",
   "execution_count": 1,
   "metadata": {},
   "outputs": [],
   "source": [
    "import numpy as np\n",
    "import random\n",
    "import matplotlib.pyplot as plt\n",
    "from scipy.stats import multivariate_normal as mn\n",
    "\n",
    "%matplotlib inline\n"
   ]
  },
  {
   "cell_type": "code",
   "execution_count": 2,
   "metadata": {},
   "outputs": [],
   "source": [
    "data = np.loadtxt('faithful.dat', skiprows=26, usecols=(1,2))"
   ]
  },
  {
   "cell_type": "code",
   "execution_count": 3,
   "metadata": {},
   "outputs": [
    {
     "data": {
      "text/plain": [
       "<matplotlib.collections.PathCollection at 0x1a1e862cc0>"
      ]
     },
     "execution_count": 3,
     "metadata": {},
     "output_type": "execute_result"
    },
    {
     "data": {
      "image/png": "[encoded data removed]",
      "text/plain": [
       "<Figure size 432x288 with 1 Axes>"
      ]
     },
     "metadata": {
      "needs_background": "light"
     },
     "output_type": "display_data"
    }
   ],
   "source": [
    "plt.scatter(data[:,0], data[:,1])"
   ]
  },
  {
   "cell_type": "markdown",
   "metadata": {},
   "source": [
    "### Copied from lecture 11\n",
    "The EM Algorithm (HTF 8.1) for a bimodal GMM is as follows (it looks pretty familiar):\n",
    "\n",
    "Take initial guesses for $\\hat{\\mu}_1,\\hat{\\sigma}_2^2,\\hat{\\mu}_2,\\hat{\\sigma}_2^2,\\hat{\\pi}$\n",
    "\n",
    "E-step: compute responsibilities \n",
    "$$\n",
    "\\hat{\\gamma_i} = \\frac{\\hat{\\pi}\\phi_{\\hat{\\theta}_2}(y_i)}{(1-\\hat{\\pi}) \\phi_{\\hat{\\theta}_1}(y_i) + \\hat{\\pi} \\phi_{\\hat{\\theta}_2}(y_i)} \\quad \\text{for} \\quad i=1,...,N\n",
    "$$\n",
    "\n",
    "M-step: compute weighted means and variances\n",
    "\\begin{align*}\n",
    "\\hat{\\mu}_1 &= \\frac{\\sum_{i=1}^{N} (1-\\hat{\\gamma_i})y_i}{\\sum_{i=1}^{N} (1-\\hat{\\gamma_i})}  \\\\\n",
    "\\hat{\\sigma}_1^2 &= \\frac{\\sum_{i=1}^{N} (1-\\hat{\\gamma_i})(y_i-\\hat{\\mu}_1)^2}{\\sum_{i=1}^{N} (1-\\hat{\\gamma}_i)}\n",
    "\\end{align*}\n",
    "and similarly for $\\hat{\\mu}_2$, $\\hat{\\sigma}^2_2$ using $\\hat{\\gamma}_i$ in place of $(1-\\hat{\\gamma}_i)$.  The mixing probability is given by $\\hat{\\pi} = \\sum_{i=1}^{N} \\frac{\\hat{\\gamma_i}}{N}$.\n",
    "\n",
    "Iterate steps 2 and 3 until convergence."
   ]
  },
  {
   "cell_type": "code",
   "execution_count": 3,
   "metadata": {},
   "outputs": [],
   "source": [
    "def dist(a, b):\n",
    "    return np.linalg.norm(a - b)   "
   ]
  },
  {
   "cell_type": "code",
   "execution_count": 208,
   "metadata": {},
   "outputs": [],
   "source": [
    "from numpy import random\n",
    "\n",
    "def e_step(data,theta,sigma,pi):\n",
    "    \n",
    "    cluster_1 = (1-pi) * mn.pdf(data, mean = theta[0], cov = sigma[0])\n",
    "    cluster_2 = pi * mn.pdf(data, mean = theta[1], cov = sigma[1])\n",
    "    \n",
    "    r = cluster_2 / ( cluster_1 + cluster_2)\n",
    "    \n",
    "    return r\n",
    "\n",
    "def m_step(data, r):\n",
    "    theta_1 = np.sum( (1 - r) * data.T, axis=1) / np.sum( 1- r)\n",
    "    theta_2 = np.sum( r * data.T, axis=1) / np.sum(r)\n",
    "    \n",
    "    sigma_1 = ((data - theta_1) * (1 - r)[:,np.newaxis]).T.dot(data - theta_1) / np.sum(1 - r)\n",
    "    sigma_2 = ((data - theta_2) * r[:,np.newaxis]).T.dot(data - theta_2) / np.sum(r)\n",
    "    \n",
    "    pi = np.sum(r)/len(r)\n",
    "    \n",
    "    return np.append(theta_1,theta_2).reshape((2,2)), np.append(sigma_1,sigma_2).reshape((2,2,2)), pi\n",
    "\n",
    "def _is_converged(theta_his, sigma_his, pi_his, delta):\n",
    "    theta_dist = dist(theta_his[-2],theta_his[-1])\n",
    "    sigma_dist = dist(sigma_his[-2],sigma_his[-1])\n",
    "    pi_dist = dist(pi_his[-2],pi_his[-1])\n",
    "    return(theta_dist<delta and sigma_dist<delta and pi_dist<delta)\n",
    "\n",
    "\n",
    "\n",
    "def GMM(data, loop=50, delta=0.0001):\n",
    "    data = np.array(data)\n",
    "    itr = 0\n",
    "    #store value\n",
    "    theta_history = []\n",
    "    sigma_history = []\n",
    "    pi_history = []\n",
    "    \n",
    "    #randomly generate initial values\n",
    "    theta = np.zeros((2,2))\n",
    "    theta[0] = data[random.randint(0,len(data))]\n",
    "    theta[1] = data[random.randint(0,len(data))]\n",
    "        \n",
    "    sigma = np.zeros((2,2,2))\n",
    "    sigma[0] = np.cov(data,rowvar=0)\n",
    "    sigma[1] = np.copy(sigma[0])\n",
    "        \n",
    "    pi = 0.5\n",
    "    \n",
    "    \n",
    "    theta_history.append(theta)\n",
    "    sigma_history.append(sigma)\n",
    "    pi_history.append(pi)\n",
    "    \n",
    "    for r in range(loop):\n",
    "        r = e_step(data,theta,sigma,pi)\n",
    "        theta,sigma,pi = m_step(data,r)\n",
    "        theta_history.append(theta)\n",
    "        sigma_history.append(sigma)\n",
    "        pi_history.append(pi)\n",
    "        itr +=1\n",
    "        if _is_converged(theta_history,sigma_history,pi_history,delta):\n",
    "            break\n",
    "        \n",
    "    return np.array(theta_history),np.array(sigma_history),np.array(pi_history), itr"
   ]
  },
  {
   "cell_type": "code",
   "execution_count": 209,
   "metadata": {},
   "outputs": [
    {
     "data": {
      "text/plain": [
       "array([[[ 4.        , 77.        ],\n",
       "        [ 4.35      , 82.        ]],\n",
       "\n",
       "       [[ 3.33717471, 68.7451047 ],\n",
       "        [ 3.67540655, 73.57789955]],\n",
       "\n",
       "       [[ 3.31471308, 68.4657788 ],\n",
       "        [ 3.70343439, 73.92651911]],\n",
       "\n",
       "       [[ 3.28336302, 68.07538436],\n",
       "        [ 3.74269242, 74.4156524 ]],\n",
       "\n",
       "       [[ 3.24305523, 67.57932582],\n",
       "        [ 3.79332644, 75.03925691]],\n",
       "\n",
       "       [[ 3.19079969, 66.95146399],\n",
       "        [ 3.85920065, 75.83155415]],\n",
       "\n",
       "       [[ 3.12138653, 66.14702633],\n",
       "        [ 3.94679398, 76.84776055]],\n",
       "\n",
       "       [[ 3.02639294, 65.10075068],\n",
       "        [ 4.06470135, 78.14471246]],\n",
       "\n",
       "       [[ 2.89414691, 63.73564316],\n",
       "        [ 4.21176387, 79.63090546]],\n",
       "\n",
       "       [[ 2.71849935, 61.95931198],\n",
       "        [ 4.32168558, 80.58556385]],\n",
       "\n",
       "       [[ 2.54037755, 60.08724571],\n",
       "        [ 4.35446533, 80.78582637]],\n",
       "\n",
       "       [[ 2.40176641, 58.60901147],\n",
       "        [ 4.36307686, 80.8008213 ]],\n",
       "\n",
       "       [[ 2.27938742, 57.23918925],\n",
       "        [ 4.35698973, 80.72125063]],\n",
       "\n",
       "       [[ 2.17624888, 56.03139773],\n",
       "        [ 4.33993371, 80.5558098 ]],\n",
       "\n",
       "       [[ 2.10785182, 55.21753971],\n",
       "        [ 4.32101381, 80.3646731 ]],\n",
       "\n",
       "       [[ 2.06305545, 54.76317447],\n",
       "        [ 4.30363293, 80.13589624]],\n",
       "\n",
       "       [[ 2.0415707 , 54.54193683],\n",
       "        [ 4.29342851, 80.00805057]],\n",
       "\n",
       "       [[ 2.03740646, 54.48923849],\n",
       "        [ 4.29053739, 79.97845745]],\n",
       "\n",
       "       [[ 2.03662312, 54.48089583],\n",
       "        [ 4.28986876, 79.97060651]],\n",
       "\n",
       "       [[ 2.03644442, 54.47908025],\n",
       "        [ 4.28971146, 79.96871318]],\n",
       "\n",
       "       [[ 2.0364019 , 54.47865166],\n",
       "        [ 4.28967387, 79.96825902]],\n",
       "\n",
       "       [[ 2.03639169, 54.47854892],\n",
       "        [ 4.28966484, 79.9681498 ]],\n",
       "\n",
       "       [[ 2.03638923, 54.47852421],\n",
       "        [ 4.28966266, 79.96812351]],\n",
       "\n",
       "       [[ 2.03638864, 54.47851826],\n",
       "        [ 4.28966214, 79.96811718]],\n",
       "\n",
       "       [[ 2.0363885 , 54.47851683],\n",
       "        [ 4.28966201, 79.96811566]]])"
      ]
     },
     "execution_count": 209,
     "metadata": {},
     "output_type": "execute_result"
    }
   ],
   "source": [
    "G = GMM(data)\n",
    "G[0]"
   ]
  },
  {
   "cell_type": "code",
   "execution_count": 210,
   "metadata": {},
   "outputs": [
    {
     "data": {
      "image/png": "[encoded data removed]",
      "text/plain": [
       "<Figure size 432x288 with 1 Axes>"
      ]
     },
     "metadata": {
      "needs_background": "light"
     },
     "output_type": "display_data"
    }
   ],
   "source": [
    "plt.scatter(data[:,0], data[:,1])\n",
    "for i in range(len(G[0])-1):\n",
    "    plt.arrow(G[0][i][0][0], G[0][i][0][1], G[0][i+1][0][0]-G[0][i][0][0], G[0][i+1][0][1]-G[0][i][0][1], head_width=0.1, head_length=0.2, color='g')\n",
    "    plt.arrow(G[0][i][1][0], G[0][i][1][1], G[0][i+1][1][0]-G[0][i][1][0], G[0][i+1][1][1]-G[0][i][1][1], head_width=0.1, head_length=0.2, color='r')\n"
   ]
  },
  {
   "cell_type": "code",
   "execution_count": 218,
   "metadata": {},
   "outputs": [],
   "source": [
    "iteration = []\n",
    "\n",
    "for i in range(50):\n",
    "    gmm = GMM(data)\n",
    "    iteration.append(gmm[3])"
   ]
  },
  {
   "cell_type": "code",
   "execution_count": 221,
   "metadata": {},
   "outputs": [
    {
     "data": {
      "text/plain": [
       "(array([ 1.,  3., 20.,  4.,  7.,  2.,  3.,  0.,  4.,  6.]),\n",
       " array([ 2. ,  6.8, 11.6, 16.4, 21.2, 26. , 30.8, 35.6, 40.4, 45.2, 50. ]),\n",
       " <a list of 10 Patch objects>)"
      ]
     },
     "execution_count": 221,
     "metadata": {},
     "output_type": "execute_result"
    },
    {
     "data": {
      "image/png": "[encoded data removed]",
      "text/plain": [
       "<Figure size 432x288 with 1 Axes>"
      ]
     },
     "metadata": {
      "needs_background": "light"
     },
     "output_type": "display_data"
    }
   ],
   "source": [
    "plt.hist(iteration)"
   ]
  },
  {
   "cell_type": "code",
   "execution_count": 80,
   "metadata": {},
   "outputs": [],
   "source": [
    "from copy import deepcopy\n",
    "def distance(a, b, ax=1):\n",
    "    return np.linalg.norm(a - b, axis=ax)\n",
    "\n",
    "\n",
    "def KMeans(data, k):\n",
    "    itr = 0\n",
    "    \n",
    "    #generate random centroids\n",
    "    c_x = np.random.randint(0, np.max(data), size=k)\n",
    "    c_y = np.random.randint(0, np.max(data), size=k)\n",
    "    centroid = np.array(list(zip(c_x, c_y)), dtype=np.float32)\n",
    "    print(centroid)\n",
    "\n",
    "    c_his = np.zeros(centroid.shape) \n",
    "    clusters = np.zeros(len(data))\n",
    "    err = distance(centroid, c_his, None)\n",
    "    while err != 0:\n",
    "        for i in range(len(data)):\n",
    "            dis = distance(data[i], centroid)\n",
    "            #print(dis)\n",
    "            cluster = np.argmin(dis)\n",
    "            #print(cluster)\n",
    "            clusters[i] = cluster\n",
    "            #print(clusters[i])\n",
    "        c_his = deepcopy(centroid)\n",
    "        for i in range(k):\n",
    "            points = [data[j] for j in range(len(data)) if clusters[j] == i]\n",
    "            a = np.mean(points, axis=0)\n",
    "            #print(a)\n",
    "            if a[0] == data[:,0].mean():\n",
    "                centroid[i] = centroid[i]\n",
    "            else:\n",
    "                centroid[i] = a\n",
    "                \n",
    "        err = distance(centroid, c_his, None)\n",
    "        itr +=1\n",
    "        \n",
    "    colors = ['red', 'green', 'blue', 'yellow']\n",
    "    fig, ax = plt.subplots()\n",
    "    for i in range(k):\n",
    "        points = np.array([data[j] for j in range(len(data)) if clusters[j] == i])\n",
    "        ax.scatter(points[:, 0], points[:, 1], s=7, c=colors[i], label=colors[i])\n",
    "    ax.scatter(centroid[:, 0], centroid[:, 1], marker='*', s=200, c='#050505')\n",
    "    ax.legend()\n",
    "\n",
    "    \n",
    "    return centroid, itr\n",
    "    "
   ]
  },
  {
   "cell_type": "code",
   "execution_count": 81,
   "metadata": {},
   "outputs": [
    {
     "name": "stdout",
     "output_type": "stream",
     "text": [
      "[[71.  0.]\n",
      " [86. 15.]]\n"
     ]
    },
    {
     "data": {
      "text/plain": [
       "6"
      ]
     },
     "execution_count": 81,
     "metadata": {},
     "output_type": "execute_result"
    },
    {
     "data": {
      "image/png": "[encoded data removed]",
      "text/plain": [
       "<Figure size 432x288 with 1 Axes>"
      ]
     },
     "metadata": {
      "needs_background": "light"
     },
     "output_type": "display_data"
    }
   ],
   "source": [
    "km = KMeans(data, 2)\n",
    "km[1]"
   ]
  },
  {
   "cell_type": "code",
   "execution_count": 84,
   "metadata": {},
   "outputs": [
    {
     "data": {
      "text/plain": [
       "(array([ 0.,  0.,  0.,  0.,  0., 50.,  0.,  0.,  0.,  0.]),\n",
       " array([2.5, 2.6, 2.7, 2.8, 2.9, 3. , 3.1, 3.2, 3.3, 3.4, 3.5]),\n",
       " <a list of 10 Patch objects>)"
      ]
     },
     "execution_count": 84,
     "metadata": {},
     "output_type": "execute_result"
    },
    {
     "data": {
      "image/png": "[encoded data removed]",
      "text/plain": [
       "<Figure size 432x288 with 1 Axes>"
      ]
     },
     "metadata": {
      "needs_background": "light"
     },
     "output_type": "display_data"
    }
   ],
   "source": [
    "from sklearn.cluster import KMeans as KM\n",
    "iteration_kmeans = []\n",
    "\n",
    "for i in range(50):\n",
    "    kmeans = KM(n_clusters=2, random_state=0).fit(data)\n",
    "    #print(kmeans[1])\n",
    "    iteration_kmeans.append(kmeans.n_iter_)\n",
    "\n",
    "plt.hist(iteration_kmeans)"
   ]
  },
  {
   "cell_type": "code",
   "execution_count": null,
   "metadata": {},
   "outputs": [],
   "source": []
  }
 ],
 "metadata": {
  "kernelspec": {
   "display_name": "Python 3",
   "language": "python",
   "name": "python3"
  },
  "language_info": {
   "codemirror_mode": {
    "name": "ipython",
    "version": 3
   },
   "file_extension": ".py",
   "mimetype": "text/x-python",
   "name": "python",
   "nbconvert_exporter": "python",
   "pygments_lexer": "ipython3",
   "version": "3.6.6"
  }
 },
 "nbformat": 4,
 "nbformat_minor": 2
}
